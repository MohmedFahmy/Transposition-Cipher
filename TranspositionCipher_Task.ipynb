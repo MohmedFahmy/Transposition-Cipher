{
  "nbformat": 4,
  "nbformat_minor": 0,
  "metadata": {
    "colab": {
      "provenance": [],
      "authorship_tag": "ABX9TyM8cVPuwoeEXoIK25tQ6jj6",
      "include_colab_link": true
    },
    "kernelspec": {
      "name": "python3",
      "display_name": "Python 3"
    },
    "language_info": {
      "name": "python"
    }
  },
  "cells": [
    {
      "cell_type": "markdown",
      "metadata": {
        "id": "view-in-github",
        "colab_type": "text"
      },
      "source": [
        "<a href=\"https://colab.research.google.com/github/MohmedFahmy/Transposition-Cipher/blob/main/TranspositionCipher_Task.ipynb\" target=\"_parent\"><img src=\"https://colab.research.google.com/assets/colab-badge.svg\" alt=\"Open In Colab\"/></a>"
      ]
    },
    {
      "cell_type": "code",
      "execution_count": 8,
      "metadata": {
        "colab": {
          "base_uri": "https://localhost:8080/"
        },
        "id": "vySLuQvdZM1Y",
        "outputId": "a321bf51-29be-4a10-ba44-ba9c9fee2025"
      },
      "outputs": [
        {
          "output_type": "stream",
          "name": "stdout",
          "text": [
            "please inter the text that yoy want Cipher It common sense is not so common\n",
            "please inter the key8\n",
            "the cipher of your text is  cenoonommstmme oo snnio s s c\n"
          ]
        }
      ],
      "source": [
        "text=input('please inter the text that yoy want Cipher It ')\n",
        "key=int(input('please inter the key'))\n",
        "cipher_text=['']*key\n",
        "\n",
        "for column in range(key):\n",
        "    pointer=column\n",
        "\n",
        "    while pointer<len(text):\n",
        "        cipher_text[column]+=text[pointer]\n",
        "        pointer+=key\n",
        "\n",
        "final_cipher_text=''.join(cipher_text)\n",
        "print('the cipher of your text is ',final_cipher_text)"
      ]
    },
    {
      "cell_type": "code",
      "source": [],
      "metadata": {
        "id": "-fY0VHhXZ3vd"
      },
      "execution_count": null,
      "outputs": []
    }
  ]
}